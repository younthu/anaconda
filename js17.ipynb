{
 "cells": [
  {
   "cell_type": "code",
   "execution_count": 1,
   "id": "57ebd9f9",
   "metadata": {},
   "outputs": [],
   "source": [
    "class Node {\n",
    "    constructor(position, density) {\n",
    "        this.position = position;\n",
    "        this.density = density;\n",
    "        this.nextNode = null;\n",
    "    }\n",
    "}\n",
    "\n",
    "class IntensitySegments {\n",
    "    constructor() {\n",
    "        this.startNode = null;\n",
    "    }\n",
    "\n",
    "    /** *\n",
    "     * \n",
    "     */\n",
    "    add(from, to, amount) { // TODO: implement this\n",
    "        if( from >= to ){\n",
    "            let temp = from;\n",
    "            from = to;\n",
    "            to = temp;\n",
    "        }\n",
    "\n",
    "        // find start node\n",
    "        if (null == this.startNode) // empty list, create head node.\n",
    "        {\n",
    "            // create new node.\n",
    "            let startNode = new Node(from, amount);\n",
    "            let endNode = new Node(to, 0)\n",
    "            startNode.nextNode = endNode;\n",
    "            this.startNode = startNode;\n",
    "            return;\n",
    "        }\n",
    "\n",
    "        let segStart = null;\n",
    "        let segEnd = null;\n",
    "        \n",
    "        let preNode = this.startNode;\n",
    "        let currentNode = preNode.nextNode;\n",
    "        \n",
    "        if(from < preNode.position) {\n",
    "            let newNode = new Node(from, amount);\n",
    "            newNode.nextNode = this.startNode;\n",
    "            this.startNode = newNode;\n",
    "            segStart = preNode;\n",
    "        } else if(from == this.startNode.position){\n",
    "            segStart = this.startNode;\n",
    "        }\n",
    "        \n",
    "        \n",
    "        \n",
    "        // find start and end node\n",
    "        while(currentNode != null) {\n",
    "\n",
    "            // try find start node.\n",
    "            if(null != segStart){\n",
    "                // already find segStart, do nothing\n",
    "            }\n",
    "            else if (currentNode.position < from ){\n",
    "                currentNode = currentNode.nextNode;\n",
    "                continue;\n",
    "            }\n",
    "            else if (currentNode.position == from) {\n",
    "                segStart = currentNode;\n",
    "            } else if( currentNode.position > from && null == segStart) {\n",
    "                // insert new start node here\n",
    "                let newNode = new Node(from, preNode.density);\n",
    "                newNode.nextNode = currentNode;\n",
    "                preNode.nextNode = newNode;\n",
    "                preNode = newNode;\n",
    "                segStart = newNode;\n",
    "            }\n",
    "\n",
    "            // try find end node.\n",
    "            if(currentNode.position < to ){\n",
    "                // do nothing\n",
    "            } else if(currentNode.position == to ) {\n",
    "                if( currentNode.nextNode != null) {  \n",
    "                   segEnd = currentNode;\n",
    "                } else {\n",
    "                    segEnd = preNode;\n",
    "                }\n",
    "                break;\n",
    "            } else { // current.position > to\n",
    "                if( segEnd == null) {\n",
    "                    // append new node\n",
    "                    density = prenode.density;\n",
    "                    \n",
    "                    let newNode = new Node(to, density)\n",
    "                    preNode.nextNode = newNode;\n",
    "                    newNode.nextNode = currentNode;\n",
    "                    preNode = newNode;\n",
    "                    segEnd = newNode;\n",
    "                    break;\n",
    "                }else{\n",
    "                    // should never go here\n",
    "                }\n",
    "            }\n",
    "\n",
    "            // move forward\n",
    "            preNode = currentNode;\n",
    "            currentNode = currentNode.nextNode;\n",
    "        }\n",
    "        // append last element\n",
    "        if(null == segEnd) {\n",
    "            let newNode = new Node(to, 0)\n",
    "            preNode.nextNode = newNode;\n",
    "            segEnd = preNode\n",
    "            \n",
    "        }\n",
    "        \n",
    "        // update densities\n",
    "        this.set(segStart.position, segEnd.position, amount)\n",
    "    }\n",
    "\n",
    "    /** *\n",
    "    increase from, to with amount.\n",
    "    */\n",
    "    set(from, to, amount) { \n",
    "        let currentNode = this.startNode;\n",
    "        \n",
    "        // find start node \n",
    "        while(currentNode != null) {\n",
    "            if(currentNode.position == from)\n",
    "            {\n",
    "                break;\n",
    "            }\n",
    "            currentNode = currentNode.nextNode\n",
    "        }\n",
    "\n",
    "        // update density\n",
    "        while(currentNode && currentNode.position <= to)\n",
    "        {\n",
    "            currentNode.density += amount;\n",
    "            currentNode = currentNode.nextNode\n",
    "        }\n",
    "\n",
    "        // trim start zeros\n",
    "        currentNode = this.startNode;\n",
    "        while(currentNode != null && currentNode.density == 0) {\n",
    "            this.startNode = currentNode.nextNode;\n",
    "            currentNode = currentNode.nextNode;\n",
    "        }\n",
    "\n",
    "        // trim end zeros\n",
    "        let lastNoneZeroNode = this.startNode;\n",
    "        currentNode = lastNoneZeroNode.nextNode;\n",
    "\n",
    "        while(currentNode != null) {\n",
    "            if(currentNode.density !=0 ) {\n",
    "                lastNoneZeroNode = currentNode;\n",
    "            }\n",
    "            currentNode = currentNode.nextNode;\n",
    "        }\n",
    "        \n",
    "        if(lastNoneZeroNode.nextNode != null) {\n",
    "            lastNoneZeroNode.nextNode.nextNode = null;// keep 1 trailing zero only\n",
    "        }\n",
    "        \n",
    "    }\n",
    "\n",
    "    /** *\n",
    "    */\n",
    "    toString() {\n",
    "        let result = [];\n",
    "        let start = this.startNode;\n",
    "\n",
    "        while(start != null) {\n",
    "            result.push([start.position, start.density]);\n",
    "            start = start.nextNode;\n",
    "        }\n",
    "\n",
    "        return JSON.stringify(result);\n",
    "    }\n",
    "}"
   ]
  },
  {
   "cell_type": "code",
   "execution_count": 2,
   "id": "5ef7d960",
   "metadata": {},
   "outputs": [
    {
     "data": {
      "text/plain": [
       "'[]'"
      ]
     },
     "execution_count": 2,
     "metadata": {},
     "output_type": "execute_result"
    }
   ],
   "source": [
    "let segments = new IntensitySegments();\n",
    "segments.toString(); // Should be \"[]\""
   ]
  },
  {
   "cell_type": "code",
   "execution_count": 3,
   "id": "b1433150",
   "metadata": {},
   "outputs": [
    {
     "data": {
      "text/plain": [
       "'[[10,1],[30,0]]'"
      ]
     },
     "execution_count": 3,
     "metadata": {},
     "output_type": "execute_result"
    }
   ],
   "source": [
    "segments.add(10, 30, 1);\n",
    "segments.toString(); // Should be: \"[[10,1],[30,0]]\""
   ]
  },
  {
   "cell_type": "code",
   "execution_count": 4,
   "id": "96002e2b",
   "metadata": {},
   "outputs": [
    {
     "data": {
      "text/plain": [
       "'[[10,1],[20,2],[30,1],[40,0]]'"
      ]
     },
     "execution_count": 4,
     "metadata": {},
     "output_type": "execute_result"
    }
   ],
   "source": [
    "segments.add(20, 40, 1);\n",
    "segments.toString(); // Should be: \"[[10,1],[20,2],[30,1],[40,0]]\""
   ]
  },
  {
   "cell_type": "code",
   "execution_count": 5,
   "id": "675a8f61",
   "metadata": {},
   "outputs": [
    {
     "data": {
      "text/plain": [
       "'[]'"
      ]
     },
     "execution_count": 5,
     "metadata": {},
     "output_type": "execute_result"
    }
   ],
   "source": [
    "segments = new IntensitySegments(); \n",
    "segments.toString(); // Should be \"[]\""
   ]
  },
  {
   "cell_type": "code",
   "execution_count": 6,
   "id": "07054563",
   "metadata": {},
   "outputs": [
    {
     "data": {
      "text/plain": [
       "'[[10,1],[30,0]]'"
      ]
     },
     "execution_count": 6,
     "metadata": {},
     "output_type": "execute_result"
    }
   ],
   "source": [
    "segments.add(10, 30, 1);\n",
    "segments.toString(); // Should be \"[[10,1],[30,0]]\""
   ]
  },
  {
   "cell_type": "code",
   "execution_count": 7,
   "id": "1ff6237a",
   "metadata": {},
   "outputs": [
    {
     "data": {
      "text/plain": [
       "'[[10,1],[20,2],[30,1],[40,0]]'"
      ]
     },
     "execution_count": 7,
     "metadata": {},
     "output_type": "execute_result"
    }
   ],
   "source": [
    "segments.add(20, 40, 1);\n",
    "segments.toString(); // Should be \"[[10,1],[20,2],[30,1],[40,0]]\""
   ]
  },
  {
   "cell_type": "code",
   "execution_count": 8,
   "id": "380cc97f",
   "metadata": {},
   "outputs": [
    {
     "data": {
      "text/plain": [
       "'[[20,1],[30,0]]'"
      ]
     },
     "execution_count": 8,
     "metadata": {},
     "output_type": "execute_result"
    }
   ],
   "source": [
    "segments.add(10, 40, -1);\n",
    "segments.toString(); // Should be \"[[20,1],[30,0]]\""
   ]
  },
  {
   "cell_type": "code",
   "execution_count": 9,
   "id": "f8827c88",
   "metadata": {},
   "outputs": [
    {
     "data": {
      "text/plain": [
       "'[[10,-1],[20,0],[30,-1],[40,0]]'"
      ]
     },
     "execution_count": 9,
     "metadata": {},
     "output_type": "execute_result"
    }
   ],
   "source": [
    "segments.add(10, 40, -1);\n",
    "segments.toString(); // Should be \"[[10,-1],[20,0],[30,-1],[40,0]]\""
   ]
  },
  {
   "cell_type": "code",
   "execution_count": null,
   "id": "8292a1ed",
   "metadata": {},
   "outputs": [],
   "source": []
  }
 ],
 "metadata": {
  "kernelspec": {
   "display_name": "JavaScript (Node.js)",
   "language": "javascript",
   "name": "javascript"
  },
  "language_info": {
   "file_extension": ".js",
   "mimetype": "application/javascript",
   "name": "javascript",
   "version": "16.15.0"
  }
 },
 "nbformat": 4,
 "nbformat_minor": 5
}
